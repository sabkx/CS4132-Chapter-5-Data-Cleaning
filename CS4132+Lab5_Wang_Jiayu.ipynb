{
 "cells": [
  {
   "cell_type": "markdown",
   "id": "969826cd",
   "metadata": {},
   "source": [
    "<P> <img src=\"https://i.ibb.co/gyNf19D/nhslogo.png\" alt=\"nhslogo\" border=\"0\" width=\"100\" align=\"right\"><font size=\"6\"><b> CS4132 Data Analytics</b> </font>"
   ]
  },
  {
   "cell_type": "markdown",
   "id": "3ad23421",
   "metadata": {},
   "source": [
    "# Chapter 5: Data Cleaning"
   ]
  },
  {
   "cell_type": "markdown",
   "id": "0d036eb2",
   "metadata": {},
   "source": [
    "## Airbnb Case Study Discussion"
   ]
  },
  {
   "cell_type": "markdown",
   "id": "78e0f419",
   "metadata": {},
   "source": [
    "<div class=\"alert alert-block alert-warning\">\n",
    "In groups of 4, discuss what are the steps you will take to clean the dataset given in <b>airbnb.csv</b>   \n",
    "    \n",
    "Groups will be asked to present using the word document at the end of discussion time. \n",
    "    \n",
    "You may use this notebook to test out your code for relevant sections.\n",
    "</div>"
   ]
  },
  {
   "cell_type": "code",
   "execution_count": 2,
   "id": "9b149001",
   "metadata": {},
   "outputs": [
    {
     "data": {
      "text/html": [
       "<div>\n",
       "<style scoped>\n",
       "    .dataframe tbody tr th:only-of-type {\n",
       "        vertical-align: middle;\n",
       "    }\n",
       "\n",
       "    .dataframe tbody tr th {\n",
       "        vertical-align: top;\n",
       "    }\n",
       "\n",
       "    .dataframe thead th {\n",
       "        text-align: right;\n",
       "    }\n",
       "</style>\n",
       "<table border=\"1\" class=\"dataframe\">\n",
       "  <thead>\n",
       "    <tr style=\"text-align: right;\">\n",
       "      <th></th>\n",
       "      <th>id</th>\n",
       "      <th>name</th>\n",
       "      <th>host_id</th>\n",
       "      <th>host_name</th>\n",
       "      <th>neighbourhood_group</th>\n",
       "      <th>neighbourhood</th>\n",
       "      <th>latitude</th>\n",
       "      <th>longitude</th>\n",
       "      <th>room_type</th>\n",
       "      <th>price</th>\n",
       "      <th>minimum_nights</th>\n",
       "      <th>number_of_reviews</th>\n",
       "      <th>last_review</th>\n",
       "      <th>reviews_per_month</th>\n",
       "    </tr>\n",
       "  </thead>\n",
       "  <tbody>\n",
       "    <tr>\n",
       "      <th>0</th>\n",
       "      <td>2539</td>\n",
       "      <td>Clean &amp; quiet apt home by the park</td>\n",
       "      <td>2787</td>\n",
       "      <td>John</td>\n",
       "      <td>Brooklyn</td>\n",
       "      <td>Kensington</td>\n",
       "      <td>40.64749</td>\n",
       "      <td>-73.97237</td>\n",
       "      <td>Private room</td>\n",
       "      <td>149</td>\n",
       "      <td>1</td>\n",
       "      <td>9</td>\n",
       "      <td>19/10/2018</td>\n",
       "      <td>0.21</td>\n",
       "    </tr>\n",
       "    <tr>\n",
       "      <th>1</th>\n",
       "      <td>2595</td>\n",
       "      <td>Skylit Midtown Castle</td>\n",
       "      <td>2845</td>\n",
       "      <td>Jennifer</td>\n",
       "      <td>Manhattan</td>\n",
       "      <td>Midtown</td>\n",
       "      <td>40.75362</td>\n",
       "      <td>-73.98377</td>\n",
       "      <td>Entire home/apt</td>\n",
       "      <td>225</td>\n",
       "      <td>1</td>\n",
       "      <td>45</td>\n",
       "      <td>21/5/2019</td>\n",
       "      <td>0.38</td>\n",
       "    </tr>\n",
       "    <tr>\n",
       "      <th>2</th>\n",
       "      <td>3647</td>\n",
       "      <td>THE VILLAGE OF HARLEM....NEW YORK !</td>\n",
       "      <td>4632</td>\n",
       "      <td>Elisabeth</td>\n",
       "      <td>Manhattan</td>\n",
       "      <td>Harlem</td>\n",
       "      <td>40.80902</td>\n",
       "      <td>-73.94190</td>\n",
       "      <td>Private room</td>\n",
       "      <td>150</td>\n",
       "      <td>3</td>\n",
       "      <td>0</td>\n",
       "      <td>NaN</td>\n",
       "      <td>NaN</td>\n",
       "    </tr>\n",
       "    <tr>\n",
       "      <th>3</th>\n",
       "      <td>3831</td>\n",
       "      <td>Cozy Entire Floor of Brownstone</td>\n",
       "      <td>4869</td>\n",
       "      <td>LisaRoxanne</td>\n",
       "      <td>Brooklyn</td>\n",
       "      <td>Clinton Hill</td>\n",
       "      <td>40.68514</td>\n",
       "      <td>-73.95976</td>\n",
       "      <td>Entire home/apt</td>\n",
       "      <td>89</td>\n",
       "      <td>1</td>\n",
       "      <td>270</td>\n",
       "      <td>5/7/2019</td>\n",
       "      <td>4.64</td>\n",
       "    </tr>\n",
       "    <tr>\n",
       "      <th>4</th>\n",
       "      <td>5022</td>\n",
       "      <td>Entire Apt: Spacious Studio/Loft by central park</td>\n",
       "      <td>7192</td>\n",
       "      <td>Laura</td>\n",
       "      <td>Manhattan</td>\n",
       "      <td>East Harlem</td>\n",
       "      <td>40.79851</td>\n",
       "      <td>-73.94399</td>\n",
       "      <td>Entire home/apt</td>\n",
       "      <td>80</td>\n",
       "      <td>10</td>\n",
       "      <td>9</td>\n",
       "      <td>19/11/2018</td>\n",
       "      <td>0.10</td>\n",
       "    </tr>\n",
       "  </tbody>\n",
       "</table>\n",
       "</div>"
      ],
      "text/plain": [
       "     id                                              name  host_id  \\\n",
       "0  2539                Clean & quiet apt home by the park     2787   \n",
       "1  2595                             Skylit Midtown Castle     2845   \n",
       "2  3647               THE VILLAGE OF HARLEM....NEW YORK !     4632   \n",
       "3  3831                   Cozy Entire Floor of Brownstone     4869   \n",
       "4  5022  Entire Apt: Spacious Studio/Loft by central park     7192   \n",
       "\n",
       "     host_name neighbourhood_group neighbourhood  latitude  longitude  \\\n",
       "0         John            Brooklyn    Kensington  40.64749  -73.97237   \n",
       "1     Jennifer           Manhattan       Midtown  40.75362  -73.98377   \n",
       "2    Elisabeth           Manhattan        Harlem  40.80902  -73.94190   \n",
       "3  LisaRoxanne            Brooklyn  Clinton Hill  40.68514  -73.95976   \n",
       "4        Laura           Manhattan   East Harlem  40.79851  -73.94399   \n",
       "\n",
       "         room_type  price  minimum_nights  number_of_reviews last_review  \\\n",
       "0     Private room    149               1                  9  19/10/2018   \n",
       "1  Entire home/apt    225               1                 45   21/5/2019   \n",
       "2     Private room    150               3                  0         NaN   \n",
       "3  Entire home/apt     89               1                270    5/7/2019   \n",
       "4  Entire home/apt     80              10                  9  19/11/2018   \n",
       "\n",
       "   reviews_per_month  \n",
       "0               0.21  \n",
       "1               0.38  \n",
       "2                NaN  \n",
       "3               4.64  \n",
       "4               0.10  "
      ]
     },
     "execution_count": 2,
     "metadata": {},
     "output_type": "execute_result"
    }
   ],
   "source": [
    "import pandas as pd\n",
    "import numpy as np\n",
    "\n",
    "# Load the dataset here\n",
    "df_airbnb = pd.read_csv(\"airbnb.csv\", encoding='ISO-8859-1')\n",
    "df_airbnb.head()"
   ]
  },
  {
   "cell_type": "markdown",
   "id": "f6ecf8bb",
   "metadata": {
    "slideshow": {
     "slide_type": "slide"
    }
   },
   "source": [
    "Consider the following when cleaning your data.\n",
    "\n",
    "#### 1) Handling Missing Data\n",
    "* Are there any missing data in the dataset?\n",
    "* How might the data collection process have contributed to these missing values?\n",
    "* What are the suggested ways to impute the missing data?\n",
    "* What are the implications of different imputation methods on our subsequent analysis?"
   ]
  },
  {
   "cell_type": "markdown",
   "id": "2b388711",
   "metadata": {},
   "source": [
    "<div class=\"alert alert-block alert-info\">\n",
    "\n",
    "Double click here and type your explanations here.    \n",
    "    \n",
    "</div>"
   ]
  },
  {
   "cell_type": "code",
   "execution_count": null,
   "id": "0868ea25",
   "metadata": {},
   "outputs": [],
   "source": [
    "#enter your code here\n"
   ]
  },
  {
   "cell_type": "markdown",
   "id": "16217e1b",
   "metadata": {
    "slideshow": {
     "slide_type": "slide"
    }
   },
   "source": [
    "#### 2) Removing Duplicates\n",
    "* Are there any duplicates in the dataset?\n",
    "* How would you define an approximate duplicate in this context?\n",
    "* What methods could you use to identify and handle approximate duplicates?"
   ]
  },
  {
   "cell_type": "markdown",
   "id": "201b197d",
   "metadata": {},
   "source": [
    "<div class=\"alert alert-block alert-info\">\n",
    "\n",
    "Double click here and type your explanations here.    \n",
    "    \n",
    "</div>"
   ]
  },
  {
   "cell_type": "code",
   "execution_count": null,
   "id": "2df2f4cc",
   "metadata": {},
   "outputs": [],
   "source": [
    "#enter your code here\n"
   ]
  },
  {
   "cell_type": "markdown",
   "id": "57b7db0f",
   "metadata": {
    "slideshow": {
     "slide_type": "slide"
    }
   },
   "source": [
    "#### 3) Data Formatting & Consistency\n",
    "* Are there any formatting issues? \n",
    "* What data formatting techniques can you apply on the dataset?\n",
    "* How might these formatting issues impact your analysis?\n",
    "* How can you ensure consistent formatting across all string columns in a dataset?\n",
    "* Are there any inconsistent data in the dataset? How can you check them?\n",
    "* How would you handle these inconsistencies?"
   ]
  },
  {
   "cell_type": "markdown",
   "id": "6257ab4c",
   "metadata": {},
   "source": [
    "<div class=\"alert alert-block alert-info\">\n",
    "\n",
    "Double click here and type your explanations here. \n",
    "    Yes.\n",
    "    Change all the dates and check for invalid dates.\n",
    "    \n",
    "    \n",
    "</div>"
   ]
  },
  {
   "cell_type": "code",
   "execution_count": 28,
   "id": "86c0f499",
   "metadata": {},
   "outputs": [
    {
     "data": {
      "text/plain": [
       "Series([], Name: number_of_reviews, dtype: int64)"
      ]
     },
     "execution_count": 28,
     "metadata": {},
     "output_type": "execute_result"
    }
   ],
   "source": [
    "#enter your code here\n",
    "# df_airbnb[\"minimum_nights\"][df_airbnb[\"minimum_nights\"]<0]\n",
    "# # 29780   -1\n",
    "# # Name: minimum_nights, dtype: int64\n",
    "# # -1 LMAO\n",
    "# df_airbnb=df_airbnb.drop(29780)\n",
    "# df_airbnb.drop(df_airbnb[\"minimum_nights\"][df_airbnb[\"minimum_nights\"]>100],inplace=True)\n",
    "# df_airbnb[\"number_of_reviews\"][df_airbnb[\"number_of_reviews\"]<0]"
   ]
  },
  {
   "cell_type": "code",
   "execution_count": 13,
   "id": "16b496b0",
   "metadata": {},
   "outputs": [
    {
     "name": "stdout",
     "output_type": "stream",
     "text": [
      "<class 'pandas.core.frame.DataFrame'>\n",
      "RangeIndex: 48897 entries, 0 to 48896\n",
      "Data columns (total 14 columns):\n",
      " #   Column               Non-Null Count  Dtype  \n",
      "---  ------               --------------  -----  \n",
      " 0   id                   48897 non-null  int64  \n",
      " 1   name                 48881 non-null  string \n",
      " 2   host_id              48897 non-null  int64  \n",
      " 3   host_name            48876 non-null  object \n",
      " 4   neighbourhood_group  48897 non-null  object \n",
      " 5   neighbourhood        48897 non-null  object \n",
      " 6   latitude             48897 non-null  float64\n",
      " 7   longitude            48897 non-null  float64\n",
      " 8   room_type            48897 non-null  object \n",
      " 9   price                48897 non-null  int64  \n",
      " 10  minimum_nights       48897 non-null  int64  \n",
      " 11  number_of_reviews    48897 non-null  int64  \n",
      " 12  last_review          38845 non-null  object \n",
      " 13  reviews_per_month    38845 non-null  float64\n",
      "dtypes: float64(3), int64(5), object(5), string(1)\n",
      "memory usage: 5.2+ MB\n"
     ]
    }
   ],
   "source": [
    "df_airbnb.info()"
   ]
  },
  {
   "cell_type": "markdown",
   "id": "0398d499",
   "metadata": {
    "slideshow": {
     "slide_type": "slide"
    }
   },
   "source": [
    "#### 4) Data Binning\n",
    "* Which column data may be suitable to apply binning?\n",
    "* Why might we want to bin the selected column into categories? How does this affect our analysis?\n",
    "* What are the advantages and disadvantages of using quantiles for binning?"
   ]
  },
  {
   "cell_type": "markdown",
   "id": "b67307a7",
   "metadata": {},
   "source": [
    "<div class=\"alert alert-block alert-info\">\n",
    "\n",
    "Double click here and type your explanations here.    \n",
    "    \n",
    "</div>"
   ]
  },
  {
   "cell_type": "code",
   "execution_count": null,
   "id": "a3c57ed2",
   "metadata": {},
   "outputs": [],
   "source": [
    "#enter your code here\n"
   ]
  }
 ],
 "metadata": {
  "kernelspec": {
   "display_name": "Python 3 (ipykernel)",
   "language": "python",
   "name": "python3"
  },
  "language_info": {
   "codemirror_mode": {
    "name": "ipython",
    "version": 3
   },
   "file_extension": ".py",
   "mimetype": "text/x-python",
   "name": "python",
   "nbconvert_exporter": "python",
   "pygments_lexer": "ipython3",
   "version": "3.10.9"
  }
 },
 "nbformat": 4,
 "nbformat_minor": 5
}
